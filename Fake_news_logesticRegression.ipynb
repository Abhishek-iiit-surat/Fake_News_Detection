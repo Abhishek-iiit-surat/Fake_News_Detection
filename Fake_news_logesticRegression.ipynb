{
  "nbformat": 4,
  "nbformat_minor": 0,
  "metadata": {
    "colab": {
      "provenance": []
    },
    "kernelspec": {
      "name": "python3",
      "display_name": "Python 3"
    },
    "language_info": {
      "name": "python"
    }
  },
  "cells": [
    {
      "cell_type": "code",
      "execution_count": 69,
      "metadata": {
        "id": "JVKohgjX7Wf4"
      },
      "outputs": [],
      "source": [
        "import numpy as np\n",
        "import pandas as pd\n",
        "import re\n",
        "import nltk\n",
        "from nltk.corpus import stopwords\n",
        "from nltk.stem.porter import PorterStemmer\n",
        "from sklearn.feature_extraction.text import TfidfVectorizer\n",
        "from sklearn.model_selection import train_test_split\n",
        "from sklearn.linear_model import LogisticRegression\n",
        "from sklearn.metrics import accuracy_score"
      ]
    },
    {
      "cell_type": "code",
      "source": [
        "from google.colab import drive\n",
        "drive.mount('/content/drive')"
      ],
      "metadata": {
        "colab": {
          "base_uri": "https://localhost:8080/"
        },
        "id": "lTUT3btDOS3z",
        "outputId": "2a7feb13-4c09-495d-ffce-1dfec35bb67b"
      },
      "execution_count": 70,
      "outputs": [
        {
          "output_type": "stream",
          "name": "stdout",
          "text": [
            "Drive already mounted at /content/drive; to attempt to forcibly remount, call drive.mount(\"/content/drive\", force_remount=True).\n"
          ]
        }
      ]
    },
    {
      "cell_type": "code",
      "source": [
        "nltk.download('stopwords')"
      ],
      "metadata": {
        "colab": {
          "base_uri": "https://localhost:8080/"
        },
        "id": "eq6bkPK4yA1O",
        "outputId": "b513772b-e623-4c25-8e14-6cdd66addc1b"
      },
      "execution_count": 71,
      "outputs": [
        {
          "output_type": "stream",
          "name": "stderr",
          "text": [
            "[nltk_data] Downloading package stopwords to /root/nltk_data...\n",
            "[nltk_data]   Package stopwords is already up-to-date!\n"
          ]
        },
        {
          "output_type": "execute_result",
          "data": {
            "text/plain": [
              "True"
            ]
          },
          "metadata": {},
          "execution_count": 71
        }
      ]
    },
    {
      "cell_type": "code",
      "source": [
        "print(stopwords.words('english'))"
      ],
      "metadata": {
        "colab": {
          "base_uri": "https://localhost:8080/"
        },
        "id": "UxAHwhlVyFcX",
        "outputId": "0b07a3ad-3baa-4556-d42e-9bd4ad083fc3"
      },
      "execution_count": 72,
      "outputs": [
        {
          "output_type": "stream",
          "name": "stdout",
          "text": [
            "['i', 'me', 'my', 'myself', 'we', 'our', 'ours', 'ourselves', 'you', \"you're\", \"you've\", \"you'll\", \"you'd\", 'your', 'yours', 'yourself', 'yourselves', 'he', 'him', 'his', 'himself', 'she', \"she's\", 'her', 'hers', 'herself', 'it', \"it's\", 'its', 'itself', 'they', 'them', 'their', 'theirs', 'themselves', 'what', 'which', 'who', 'whom', 'this', 'that', \"that'll\", 'these', 'those', 'am', 'is', 'are', 'was', 'were', 'be', 'been', 'being', 'have', 'has', 'had', 'having', 'do', 'does', 'did', 'doing', 'a', 'an', 'the', 'and', 'but', 'if', 'or', 'because', 'as', 'until', 'while', 'of', 'at', 'by', 'for', 'with', 'about', 'against', 'between', 'into', 'through', 'during', 'before', 'after', 'above', 'below', 'to', 'from', 'up', 'down', 'in', 'out', 'on', 'off', 'over', 'under', 'again', 'further', 'then', 'once', 'here', 'there', 'when', 'where', 'why', 'how', 'all', 'any', 'both', 'each', 'few', 'more', 'most', 'other', 'some', 'such', 'no', 'nor', 'not', 'only', 'own', 'same', 'so', 'than', 'too', 'very', 's', 't', 'can', 'will', 'just', 'don', \"don't\", 'should', \"should've\", 'now', 'd', 'll', 'm', 'o', 're', 've', 'y', 'ain', 'aren', \"aren't\", 'couldn', \"couldn't\", 'didn', \"didn't\", 'doesn', \"doesn't\", 'hadn', \"hadn't\", 'hasn', \"hasn't\", 'haven', \"haven't\", 'isn', \"isn't\", 'ma', 'mightn', \"mightn't\", 'mustn', \"mustn't\", 'needn', \"needn't\", 'shan', \"shan't\", 'shouldn', \"shouldn't\", 'wasn', \"wasn't\", 'weren', \"weren't\", 'won', \"won't\", 'wouldn', \"wouldn't\"]\n"
          ]
        }
      ]
    },
    {
      "cell_type": "code",
      "source": [
        "# load the data to pandas dataset\n",
        "news_data=pd.read_csv('/content/drive/MyDrive/Machine Learning/Datasets/Fake_News/train.csv')"
      ],
      "metadata": {
        "id": "APJAzUXWyUVp"
      },
      "execution_count": 73,
      "outputs": []
    },
    {
      "cell_type": "code",
      "source": [
        "# first 5 rows of dataframe\n",
        "news_data.head()"
      ],
      "metadata": {
        "colab": {
          "base_uri": "https://localhost:8080/",
          "height": 345
        },
        "id": "GYVmxdVZyhmh",
        "outputId": "2f016fc7-2552-4cf0-bb49-3822ca110c5e"
      },
      "execution_count": 74,
      "outputs": [
        {
          "output_type": "execute_result",
          "data": {
            "text/plain": [
              "   id                                              title              author  \\\n",
              "0   0  House Dem Aide: We Didn’t Even See Comey’s Let...       Darrell Lucus   \n",
              "1   1  FLYNN: Hillary Clinton, Big Woman on Campus - ...     Daniel J. Flynn   \n",
              "2   2                  Why the Truth Might Get You Fired  Consortiumnews.com   \n",
              "3   3  15 Civilians Killed In Single US Airstrike Hav...     Jessica Purkiss   \n",
              "4   4  Iranian woman jailed for fictional unpublished...      Howard Portnoy   \n",
              "\n",
              "                                                text  label  \n",
              "0  House Dem Aide: We Didn’t Even See Comey’s Let...      1  \n",
              "1  Ever get the feeling your life circles the rou...      0  \n",
              "2  Why the Truth Might Get You Fired October 29, ...      1  \n",
              "3  Videos 15 Civilians Killed In Single US Airstr...      1  \n",
              "4  Print \\nAn Iranian woman has been sentenced to...      1  "
            ],
            "text/html": [
              "\n",
              "  <div id=\"df-91c6a538-e848-4092-842f-9b3d9be91947\" class=\"colab-df-container\">\n",
              "    <div>\n",
              "<style scoped>\n",
              "    .dataframe tbody tr th:only-of-type {\n",
              "        vertical-align: middle;\n",
              "    }\n",
              "\n",
              "    .dataframe tbody tr th {\n",
              "        vertical-align: top;\n",
              "    }\n",
              "\n",
              "    .dataframe thead th {\n",
              "        text-align: right;\n",
              "    }\n",
              "</style>\n",
              "<table border=\"1\" class=\"dataframe\">\n",
              "  <thead>\n",
              "    <tr style=\"text-align: right;\">\n",
              "      <th></th>\n",
              "      <th>id</th>\n",
              "      <th>title</th>\n",
              "      <th>author</th>\n",
              "      <th>text</th>\n",
              "      <th>label</th>\n",
              "    </tr>\n",
              "  </thead>\n",
              "  <tbody>\n",
              "    <tr>\n",
              "      <th>0</th>\n",
              "      <td>0</td>\n",
              "      <td>House Dem Aide: We Didn’t Even See Comey’s Let...</td>\n",
              "      <td>Darrell Lucus</td>\n",
              "      <td>House Dem Aide: We Didn’t Even See Comey’s Let...</td>\n",
              "      <td>1</td>\n",
              "    </tr>\n",
              "    <tr>\n",
              "      <th>1</th>\n",
              "      <td>1</td>\n",
              "      <td>FLYNN: Hillary Clinton, Big Woman on Campus - ...</td>\n",
              "      <td>Daniel J. Flynn</td>\n",
              "      <td>Ever get the feeling your life circles the rou...</td>\n",
              "      <td>0</td>\n",
              "    </tr>\n",
              "    <tr>\n",
              "      <th>2</th>\n",
              "      <td>2</td>\n",
              "      <td>Why the Truth Might Get You Fired</td>\n",
              "      <td>Consortiumnews.com</td>\n",
              "      <td>Why the Truth Might Get You Fired October 29, ...</td>\n",
              "      <td>1</td>\n",
              "    </tr>\n",
              "    <tr>\n",
              "      <th>3</th>\n",
              "      <td>3</td>\n",
              "      <td>15 Civilians Killed In Single US Airstrike Hav...</td>\n",
              "      <td>Jessica Purkiss</td>\n",
              "      <td>Videos 15 Civilians Killed In Single US Airstr...</td>\n",
              "      <td>1</td>\n",
              "    </tr>\n",
              "    <tr>\n",
              "      <th>4</th>\n",
              "      <td>4</td>\n",
              "      <td>Iranian woman jailed for fictional unpublished...</td>\n",
              "      <td>Howard Portnoy</td>\n",
              "      <td>Print \\nAn Iranian woman has been sentenced to...</td>\n",
              "      <td>1</td>\n",
              "    </tr>\n",
              "  </tbody>\n",
              "</table>\n",
              "</div>\n",
              "    <div class=\"colab-df-buttons\">\n",
              "\n",
              "  <div class=\"colab-df-container\">\n",
              "    <button class=\"colab-df-convert\" onclick=\"convertToInteractive('df-91c6a538-e848-4092-842f-9b3d9be91947')\"\n",
              "            title=\"Convert this dataframe to an interactive table.\"\n",
              "            style=\"display:none;\">\n",
              "\n",
              "  <svg xmlns=\"http://www.w3.org/2000/svg\" height=\"24px\" viewBox=\"0 -960 960 960\">\n",
              "    <path d=\"M120-120v-720h720v720H120Zm60-500h600v-160H180v160Zm220 220h160v-160H400v160Zm0 220h160v-160H400v160ZM180-400h160v-160H180v160Zm440 0h160v-160H620v160ZM180-180h160v-160H180v160Zm440 0h160v-160H620v160Z\"/>\n",
              "  </svg>\n",
              "    </button>\n",
              "\n",
              "  <style>\n",
              "    .colab-df-container {\n",
              "      display:flex;\n",
              "      gap: 12px;\n",
              "    }\n",
              "\n",
              "    .colab-df-convert {\n",
              "      background-color: #E8F0FE;\n",
              "      border: none;\n",
              "      border-radius: 50%;\n",
              "      cursor: pointer;\n",
              "      display: none;\n",
              "      fill: #1967D2;\n",
              "      height: 32px;\n",
              "      padding: 0 0 0 0;\n",
              "      width: 32px;\n",
              "    }\n",
              "\n",
              "    .colab-df-convert:hover {\n",
              "      background-color: #E2EBFA;\n",
              "      box-shadow: 0px 1px 2px rgba(60, 64, 67, 0.3), 0px 1px 3px 1px rgba(60, 64, 67, 0.15);\n",
              "      fill: #174EA6;\n",
              "    }\n",
              "\n",
              "    .colab-df-buttons div {\n",
              "      margin-bottom: 4px;\n",
              "    }\n",
              "\n",
              "    [theme=dark] .colab-df-convert {\n",
              "      background-color: #3B4455;\n",
              "      fill: #D2E3FC;\n",
              "    }\n",
              "\n",
              "    [theme=dark] .colab-df-convert:hover {\n",
              "      background-color: #434B5C;\n",
              "      box-shadow: 0px 1px 3px 1px rgba(0, 0, 0, 0.15);\n",
              "      filter: drop-shadow(0px 1px 2px rgba(0, 0, 0, 0.3));\n",
              "      fill: #FFFFFF;\n",
              "    }\n",
              "  </style>\n",
              "\n",
              "    <script>\n",
              "      const buttonEl =\n",
              "        document.querySelector('#df-91c6a538-e848-4092-842f-9b3d9be91947 button.colab-df-convert');\n",
              "      buttonEl.style.display =\n",
              "        google.colab.kernel.accessAllowed ? 'block' : 'none';\n",
              "\n",
              "      async function convertToInteractive(key) {\n",
              "        const element = document.querySelector('#df-91c6a538-e848-4092-842f-9b3d9be91947');\n",
              "        const dataTable =\n",
              "          await google.colab.kernel.invokeFunction('convertToInteractive',\n",
              "                                                    [key], {});\n",
              "        if (!dataTable) return;\n",
              "\n",
              "        const docLinkHtml = 'Like what you see? Visit the ' +\n",
              "          '<a target=\"_blank\" href=https://colab.research.google.com/notebooks/data_table.ipynb>data table notebook</a>'\n",
              "          + ' to learn more about interactive tables.';\n",
              "        element.innerHTML = '';\n",
              "        dataTable['output_type'] = 'display_data';\n",
              "        await google.colab.output.renderOutput(dataTable, element);\n",
              "        const docLink = document.createElement('div');\n",
              "        docLink.innerHTML = docLinkHtml;\n",
              "        element.appendChild(docLink);\n",
              "      }\n",
              "    </script>\n",
              "  </div>\n",
              "\n",
              "\n",
              "<div id=\"df-5e7f6d5d-b736-4335-87d3-fe2fa39164b6\">\n",
              "  <button class=\"colab-df-quickchart\" onclick=\"quickchart('df-5e7f6d5d-b736-4335-87d3-fe2fa39164b6')\"\n",
              "            title=\"Suggest charts.\"\n",
              "            style=\"display:none;\">\n",
              "\n",
              "<svg xmlns=\"http://www.w3.org/2000/svg\" height=\"24px\"viewBox=\"0 0 24 24\"\n",
              "     width=\"24px\">\n",
              "    <g>\n",
              "        <path d=\"M19 3H5c-1.1 0-2 .9-2 2v14c0 1.1.9 2 2 2h14c1.1 0 2-.9 2-2V5c0-1.1-.9-2-2-2zM9 17H7v-7h2v7zm4 0h-2V7h2v10zm4 0h-2v-4h2v4z\"/>\n",
              "    </g>\n",
              "</svg>\n",
              "  </button>\n",
              "\n",
              "<style>\n",
              "  .colab-df-quickchart {\n",
              "      --bg-color: #E8F0FE;\n",
              "      --fill-color: #1967D2;\n",
              "      --hover-bg-color: #E2EBFA;\n",
              "      --hover-fill-color: #174EA6;\n",
              "      --disabled-fill-color: #AAA;\n",
              "      --disabled-bg-color: #DDD;\n",
              "  }\n",
              "\n",
              "  [theme=dark] .colab-df-quickchart {\n",
              "      --bg-color: #3B4455;\n",
              "      --fill-color: #D2E3FC;\n",
              "      --hover-bg-color: #434B5C;\n",
              "      --hover-fill-color: #FFFFFF;\n",
              "      --disabled-bg-color: #3B4455;\n",
              "      --disabled-fill-color: #666;\n",
              "  }\n",
              "\n",
              "  .colab-df-quickchart {\n",
              "    background-color: var(--bg-color);\n",
              "    border: none;\n",
              "    border-radius: 50%;\n",
              "    cursor: pointer;\n",
              "    display: none;\n",
              "    fill: var(--fill-color);\n",
              "    height: 32px;\n",
              "    padding: 0;\n",
              "    width: 32px;\n",
              "  }\n",
              "\n",
              "  .colab-df-quickchart:hover {\n",
              "    background-color: var(--hover-bg-color);\n",
              "    box-shadow: 0 1px 2px rgba(60, 64, 67, 0.3), 0 1px 3px 1px rgba(60, 64, 67, 0.15);\n",
              "    fill: var(--button-hover-fill-color);\n",
              "  }\n",
              "\n",
              "  .colab-df-quickchart-complete:disabled,\n",
              "  .colab-df-quickchart-complete:disabled:hover {\n",
              "    background-color: var(--disabled-bg-color);\n",
              "    fill: var(--disabled-fill-color);\n",
              "    box-shadow: none;\n",
              "  }\n",
              "\n",
              "  .colab-df-spinner {\n",
              "    border: 2px solid var(--fill-color);\n",
              "    border-color: transparent;\n",
              "    border-bottom-color: var(--fill-color);\n",
              "    animation:\n",
              "      spin 1s steps(1) infinite;\n",
              "  }\n",
              "\n",
              "  @keyframes spin {\n",
              "    0% {\n",
              "      border-color: transparent;\n",
              "      border-bottom-color: var(--fill-color);\n",
              "      border-left-color: var(--fill-color);\n",
              "    }\n",
              "    20% {\n",
              "      border-color: transparent;\n",
              "      border-left-color: var(--fill-color);\n",
              "      border-top-color: var(--fill-color);\n",
              "    }\n",
              "    30% {\n",
              "      border-color: transparent;\n",
              "      border-left-color: var(--fill-color);\n",
              "      border-top-color: var(--fill-color);\n",
              "      border-right-color: var(--fill-color);\n",
              "    }\n",
              "    40% {\n",
              "      border-color: transparent;\n",
              "      border-right-color: var(--fill-color);\n",
              "      border-top-color: var(--fill-color);\n",
              "    }\n",
              "    60% {\n",
              "      border-color: transparent;\n",
              "      border-right-color: var(--fill-color);\n",
              "    }\n",
              "    80% {\n",
              "      border-color: transparent;\n",
              "      border-right-color: var(--fill-color);\n",
              "      border-bottom-color: var(--fill-color);\n",
              "    }\n",
              "    90% {\n",
              "      border-color: transparent;\n",
              "      border-bottom-color: var(--fill-color);\n",
              "    }\n",
              "  }\n",
              "</style>\n",
              "\n",
              "  <script>\n",
              "    async function quickchart(key) {\n",
              "      const quickchartButtonEl =\n",
              "        document.querySelector('#' + key + ' button');\n",
              "      quickchartButtonEl.disabled = true;  // To prevent multiple clicks.\n",
              "      quickchartButtonEl.classList.add('colab-df-spinner');\n",
              "      try {\n",
              "        const charts = await google.colab.kernel.invokeFunction(\n",
              "            'suggestCharts', [key], {});\n",
              "      } catch (error) {\n",
              "        console.error('Error during call to suggestCharts:', error);\n",
              "      }\n",
              "      quickchartButtonEl.classList.remove('colab-df-spinner');\n",
              "      quickchartButtonEl.classList.add('colab-df-quickchart-complete');\n",
              "    }\n",
              "    (() => {\n",
              "      let quickchartButtonEl =\n",
              "        document.querySelector('#df-5e7f6d5d-b736-4335-87d3-fe2fa39164b6 button');\n",
              "      quickchartButtonEl.style.display =\n",
              "        google.colab.kernel.accessAllowed ? 'block' : 'none';\n",
              "    })();\n",
              "  </script>\n",
              "</div>\n",
              "    </div>\n",
              "  </div>\n"
            ]
          },
          "metadata": {},
          "execution_count": 74
        }
      ]
    },
    {
      "cell_type": "markdown",
      "source": [
        "0=real news\n",
        "1=fake news"
      ],
      "metadata": {
        "id": "-dFspovf2q1o"
      }
    },
    {
      "cell_type": "code",
      "source": [
        "news_data.shape"
      ],
      "metadata": {
        "colab": {
          "base_uri": "https://localhost:8080/"
        },
        "id": "mGiejjwl2u51",
        "outputId": "ef1bc793-fc64-47f6-991e-2d32e45f5fe3"
      },
      "execution_count": 75,
      "outputs": [
        {
          "output_type": "execute_result",
          "data": {
            "text/plain": [
              "(20800, 5)"
            ]
          },
          "metadata": {},
          "execution_count": 75
        }
      ]
    },
    {
      "cell_type": "code",
      "source": [
        "# checking the null values\n",
        "# news_data['author'].isnull().sum()\n",
        "news_data.isnull().sum()"
      ],
      "metadata": {
        "colab": {
          "base_uri": "https://localhost:8080/"
        },
        "id": "X7JKaJ6K5l58",
        "outputId": "b2fc77f9-d4d7-4a77-b1e3-b566ecb519e8"
      },
      "execution_count": 76,
      "outputs": [
        {
          "output_type": "execute_result",
          "data": {
            "text/plain": [
              "id           0\n",
              "title      558\n",
              "author    1957\n",
              "text        39\n",
              "label        0\n",
              "dtype: int64"
            ]
          },
          "metadata": {},
          "execution_count": 76
        }
      ]
    },
    {
      "cell_type": "code",
      "source": [
        "# replacing the missing values with null string\n",
        "news_data=news_data.fillna('')"
      ],
      "metadata": {
        "id": "Ptymi1rt6CAW"
      },
      "execution_count": 77,
      "outputs": []
    },
    {
      "cell_type": "code",
      "source": [
        "news_data.isnull().sum()"
      ],
      "metadata": {
        "colab": {
          "base_uri": "https://localhost:8080/"
        },
        "id": "_q6XR5O_7btT",
        "outputId": "508aa48d-341a-4c89-cb62-038c345333ba"
      },
      "execution_count": 78,
      "outputs": [
        {
          "output_type": "execute_result",
          "data": {
            "text/plain": [
              "id        0\n",
              "title     0\n",
              "author    0\n",
              "text      0\n",
              "label     0\n",
              "dtype: int64"
            ]
          },
          "metadata": {},
          "execution_count": 78
        }
      ]
    },
    {
      "cell_type": "code",
      "source": [
        "# we gonna make a new column in which we will merge the column author and news title\n",
        "# new column will be content\n",
        "\n",
        "news_data['content']=news_data['author']+' '+news_data['title']\n",
        "news_data"
      ],
      "metadata": {
        "colab": {
          "base_uri": "https://localhost:8080/",
          "height": 1000
        },
        "id": "EoOj94Le72H0",
        "outputId": "64103209-18c5-478e-a719-b5fe09e1c108"
      },
      "execution_count": 79,
      "outputs": [
        {
          "output_type": "execute_result",
          "data": {
            "text/plain": [
              "          id                                              title  \\\n",
              "0          0  House Dem Aide: We Didn’t Even See Comey’s Let...   \n",
              "1          1  FLYNN: Hillary Clinton, Big Woman on Campus - ...   \n",
              "2          2                  Why the Truth Might Get You Fired   \n",
              "3          3  15 Civilians Killed In Single US Airstrike Hav...   \n",
              "4          4  Iranian woman jailed for fictional unpublished...   \n",
              "...      ...                                                ...   \n",
              "20795  20795  Rapper T.I.: Trump a ’Poster Child For White S...   \n",
              "20796  20796  N.F.L. Playoffs: Schedule, Matchups and Odds -...   \n",
              "20797  20797  Macy’s Is Said to Receive Takeover Approach by...   \n",
              "20798  20798  NATO, Russia To Hold Parallel Exercises In Bal...   \n",
              "20799  20799                          What Keeps the F-35 Alive   \n",
              "\n",
              "                                          author  \\\n",
              "0                                  Darrell Lucus   \n",
              "1                                Daniel J. Flynn   \n",
              "2                             Consortiumnews.com   \n",
              "3                                Jessica Purkiss   \n",
              "4                                 Howard Portnoy   \n",
              "...                                          ...   \n",
              "20795                              Jerome Hudson   \n",
              "20796                           Benjamin Hoffman   \n",
              "20797  Michael J. de la Merced and Rachel Abrams   \n",
              "20798                                Alex Ansary   \n",
              "20799                              David Swanson   \n",
              "\n",
              "                                                    text  label  \\\n",
              "0      House Dem Aide: We Didn’t Even See Comey’s Let...      1   \n",
              "1      Ever get the feeling your life circles the rou...      0   \n",
              "2      Why the Truth Might Get You Fired October 29, ...      1   \n",
              "3      Videos 15 Civilians Killed In Single US Airstr...      1   \n",
              "4      Print \\nAn Iranian woman has been sentenced to...      1   \n",
              "...                                                  ...    ...   \n",
              "20795  Rapper T. I. unloaded on black celebrities who...      0   \n",
              "20796  When the Green Bay Packers lost to the Washing...      0   \n",
              "20797  The Macy’s of today grew from the union of sev...      0   \n",
              "20798  NATO, Russia To Hold Parallel Exercises In Bal...      1   \n",
              "20799    David Swanson is an author, activist, journa...      1   \n",
              "\n",
              "                                                 content  \n",
              "0      Darrell Lucus House Dem Aide: We Didn’t Even S...  \n",
              "1      Daniel J. Flynn FLYNN: Hillary Clinton, Big Wo...  \n",
              "2      Consortiumnews.com Why the Truth Might Get You...  \n",
              "3      Jessica Purkiss 15 Civilians Killed In Single ...  \n",
              "4      Howard Portnoy Iranian woman jailed for fictio...  \n",
              "...                                                  ...  \n",
              "20795  Jerome Hudson Rapper T.I.: Trump a ’Poster Chi...  \n",
              "20796  Benjamin Hoffman N.F.L. Playoffs: Schedule, Ma...  \n",
              "20797  Michael J. de la Merced and Rachel Abrams Macy...  \n",
              "20798  Alex Ansary NATO, Russia To Hold Parallel Exer...  \n",
              "20799            David Swanson What Keeps the F-35 Alive  \n",
              "\n",
              "[20800 rows x 6 columns]"
            ],
            "text/html": [
              "\n",
              "  <div id=\"df-e646f44d-fec9-47d0-8c46-e87dce6e4300\" class=\"colab-df-container\">\n",
              "    <div>\n",
              "<style scoped>\n",
              "    .dataframe tbody tr th:only-of-type {\n",
              "        vertical-align: middle;\n",
              "    }\n",
              "\n",
              "    .dataframe tbody tr th {\n",
              "        vertical-align: top;\n",
              "    }\n",
              "\n",
              "    .dataframe thead th {\n",
              "        text-align: right;\n",
              "    }\n",
              "</style>\n",
              "<table border=\"1\" class=\"dataframe\">\n",
              "  <thead>\n",
              "    <tr style=\"text-align: right;\">\n",
              "      <th></th>\n",
              "      <th>id</th>\n",
              "      <th>title</th>\n",
              "      <th>author</th>\n",
              "      <th>text</th>\n",
              "      <th>label</th>\n",
              "      <th>content</th>\n",
              "    </tr>\n",
              "  </thead>\n",
              "  <tbody>\n",
              "    <tr>\n",
              "      <th>0</th>\n",
              "      <td>0</td>\n",
              "      <td>House Dem Aide: We Didn’t Even See Comey’s Let...</td>\n",
              "      <td>Darrell Lucus</td>\n",
              "      <td>House Dem Aide: We Didn’t Even See Comey’s Let...</td>\n",
              "      <td>1</td>\n",
              "      <td>Darrell Lucus House Dem Aide: We Didn’t Even S...</td>\n",
              "    </tr>\n",
              "    <tr>\n",
              "      <th>1</th>\n",
              "      <td>1</td>\n",
              "      <td>FLYNN: Hillary Clinton, Big Woman on Campus - ...</td>\n",
              "      <td>Daniel J. Flynn</td>\n",
              "      <td>Ever get the feeling your life circles the rou...</td>\n",
              "      <td>0</td>\n",
              "      <td>Daniel J. Flynn FLYNN: Hillary Clinton, Big Wo...</td>\n",
              "    </tr>\n",
              "    <tr>\n",
              "      <th>2</th>\n",
              "      <td>2</td>\n",
              "      <td>Why the Truth Might Get You Fired</td>\n",
              "      <td>Consortiumnews.com</td>\n",
              "      <td>Why the Truth Might Get You Fired October 29, ...</td>\n",
              "      <td>1</td>\n",
              "      <td>Consortiumnews.com Why the Truth Might Get You...</td>\n",
              "    </tr>\n",
              "    <tr>\n",
              "      <th>3</th>\n",
              "      <td>3</td>\n",
              "      <td>15 Civilians Killed In Single US Airstrike Hav...</td>\n",
              "      <td>Jessica Purkiss</td>\n",
              "      <td>Videos 15 Civilians Killed In Single US Airstr...</td>\n",
              "      <td>1</td>\n",
              "      <td>Jessica Purkiss 15 Civilians Killed In Single ...</td>\n",
              "    </tr>\n",
              "    <tr>\n",
              "      <th>4</th>\n",
              "      <td>4</td>\n",
              "      <td>Iranian woman jailed for fictional unpublished...</td>\n",
              "      <td>Howard Portnoy</td>\n",
              "      <td>Print \\nAn Iranian woman has been sentenced to...</td>\n",
              "      <td>1</td>\n",
              "      <td>Howard Portnoy Iranian woman jailed for fictio...</td>\n",
              "    </tr>\n",
              "    <tr>\n",
              "      <th>...</th>\n",
              "      <td>...</td>\n",
              "      <td>...</td>\n",
              "      <td>...</td>\n",
              "      <td>...</td>\n",
              "      <td>...</td>\n",
              "      <td>...</td>\n",
              "    </tr>\n",
              "    <tr>\n",
              "      <th>20795</th>\n",
              "      <td>20795</td>\n",
              "      <td>Rapper T.I.: Trump a ’Poster Child For White S...</td>\n",
              "      <td>Jerome Hudson</td>\n",
              "      <td>Rapper T. I. unloaded on black celebrities who...</td>\n",
              "      <td>0</td>\n",
              "      <td>Jerome Hudson Rapper T.I.: Trump a ’Poster Chi...</td>\n",
              "    </tr>\n",
              "    <tr>\n",
              "      <th>20796</th>\n",
              "      <td>20796</td>\n",
              "      <td>N.F.L. Playoffs: Schedule, Matchups and Odds -...</td>\n",
              "      <td>Benjamin Hoffman</td>\n",
              "      <td>When the Green Bay Packers lost to the Washing...</td>\n",
              "      <td>0</td>\n",
              "      <td>Benjamin Hoffman N.F.L. Playoffs: Schedule, Ma...</td>\n",
              "    </tr>\n",
              "    <tr>\n",
              "      <th>20797</th>\n",
              "      <td>20797</td>\n",
              "      <td>Macy’s Is Said to Receive Takeover Approach by...</td>\n",
              "      <td>Michael J. de la Merced and Rachel Abrams</td>\n",
              "      <td>The Macy’s of today grew from the union of sev...</td>\n",
              "      <td>0</td>\n",
              "      <td>Michael J. de la Merced and Rachel Abrams Macy...</td>\n",
              "    </tr>\n",
              "    <tr>\n",
              "      <th>20798</th>\n",
              "      <td>20798</td>\n",
              "      <td>NATO, Russia To Hold Parallel Exercises In Bal...</td>\n",
              "      <td>Alex Ansary</td>\n",
              "      <td>NATO, Russia To Hold Parallel Exercises In Bal...</td>\n",
              "      <td>1</td>\n",
              "      <td>Alex Ansary NATO, Russia To Hold Parallel Exer...</td>\n",
              "    </tr>\n",
              "    <tr>\n",
              "      <th>20799</th>\n",
              "      <td>20799</td>\n",
              "      <td>What Keeps the F-35 Alive</td>\n",
              "      <td>David Swanson</td>\n",
              "      <td>David Swanson is an author, activist, journa...</td>\n",
              "      <td>1</td>\n",
              "      <td>David Swanson What Keeps the F-35 Alive</td>\n",
              "    </tr>\n",
              "  </tbody>\n",
              "</table>\n",
              "<p>20800 rows × 6 columns</p>\n",
              "</div>\n",
              "    <div class=\"colab-df-buttons\">\n",
              "\n",
              "  <div class=\"colab-df-container\">\n",
              "    <button class=\"colab-df-convert\" onclick=\"convertToInteractive('df-e646f44d-fec9-47d0-8c46-e87dce6e4300')\"\n",
              "            title=\"Convert this dataframe to an interactive table.\"\n",
              "            style=\"display:none;\">\n",
              "\n",
              "  <svg xmlns=\"http://www.w3.org/2000/svg\" height=\"24px\" viewBox=\"0 -960 960 960\">\n",
              "    <path d=\"M120-120v-720h720v720H120Zm60-500h600v-160H180v160Zm220 220h160v-160H400v160Zm0 220h160v-160H400v160ZM180-400h160v-160H180v160Zm440 0h160v-160H620v160ZM180-180h160v-160H180v160Zm440 0h160v-160H620v160Z\"/>\n",
              "  </svg>\n",
              "    </button>\n",
              "\n",
              "  <style>\n",
              "    .colab-df-container {\n",
              "      display:flex;\n",
              "      gap: 12px;\n",
              "    }\n",
              "\n",
              "    .colab-df-convert {\n",
              "      background-color: #E8F0FE;\n",
              "      border: none;\n",
              "      border-radius: 50%;\n",
              "      cursor: pointer;\n",
              "      display: none;\n",
              "      fill: #1967D2;\n",
              "      height: 32px;\n",
              "      padding: 0 0 0 0;\n",
              "      width: 32px;\n",
              "    }\n",
              "\n",
              "    .colab-df-convert:hover {\n",
              "      background-color: #E2EBFA;\n",
              "      box-shadow: 0px 1px 2px rgba(60, 64, 67, 0.3), 0px 1px 3px 1px rgba(60, 64, 67, 0.15);\n",
              "      fill: #174EA6;\n",
              "    }\n",
              "\n",
              "    .colab-df-buttons div {\n",
              "      margin-bottom: 4px;\n",
              "    }\n",
              "\n",
              "    [theme=dark] .colab-df-convert {\n",
              "      background-color: #3B4455;\n",
              "      fill: #D2E3FC;\n",
              "    }\n",
              "\n",
              "    [theme=dark] .colab-df-convert:hover {\n",
              "      background-color: #434B5C;\n",
              "      box-shadow: 0px 1px 3px 1px rgba(0, 0, 0, 0.15);\n",
              "      filter: drop-shadow(0px 1px 2px rgba(0, 0, 0, 0.3));\n",
              "      fill: #FFFFFF;\n",
              "    }\n",
              "  </style>\n",
              "\n",
              "    <script>\n",
              "      const buttonEl =\n",
              "        document.querySelector('#df-e646f44d-fec9-47d0-8c46-e87dce6e4300 button.colab-df-convert');\n",
              "      buttonEl.style.display =\n",
              "        google.colab.kernel.accessAllowed ? 'block' : 'none';\n",
              "\n",
              "      async function convertToInteractive(key) {\n",
              "        const element = document.querySelector('#df-e646f44d-fec9-47d0-8c46-e87dce6e4300');\n",
              "        const dataTable =\n",
              "          await google.colab.kernel.invokeFunction('convertToInteractive',\n",
              "                                                    [key], {});\n",
              "        if (!dataTable) return;\n",
              "\n",
              "        const docLinkHtml = 'Like what you see? Visit the ' +\n",
              "          '<a target=\"_blank\" href=https://colab.research.google.com/notebooks/data_table.ipynb>data table notebook</a>'\n",
              "          + ' to learn more about interactive tables.';\n",
              "        element.innerHTML = '';\n",
              "        dataTable['output_type'] = 'display_data';\n",
              "        await google.colab.output.renderOutput(dataTable, element);\n",
              "        const docLink = document.createElement('div');\n",
              "        docLink.innerHTML = docLinkHtml;\n",
              "        element.appendChild(docLink);\n",
              "      }\n",
              "    </script>\n",
              "  </div>\n",
              "\n",
              "\n",
              "<div id=\"df-d4476bc2-3240-49ff-8145-31acb777da49\">\n",
              "  <button class=\"colab-df-quickchart\" onclick=\"quickchart('df-d4476bc2-3240-49ff-8145-31acb777da49')\"\n",
              "            title=\"Suggest charts.\"\n",
              "            style=\"display:none;\">\n",
              "\n",
              "<svg xmlns=\"http://www.w3.org/2000/svg\" height=\"24px\"viewBox=\"0 0 24 24\"\n",
              "     width=\"24px\">\n",
              "    <g>\n",
              "        <path d=\"M19 3H5c-1.1 0-2 .9-2 2v14c0 1.1.9 2 2 2h14c1.1 0 2-.9 2-2V5c0-1.1-.9-2-2-2zM9 17H7v-7h2v7zm4 0h-2V7h2v10zm4 0h-2v-4h2v4z\"/>\n",
              "    </g>\n",
              "</svg>\n",
              "  </button>\n",
              "\n",
              "<style>\n",
              "  .colab-df-quickchart {\n",
              "      --bg-color: #E8F0FE;\n",
              "      --fill-color: #1967D2;\n",
              "      --hover-bg-color: #E2EBFA;\n",
              "      --hover-fill-color: #174EA6;\n",
              "      --disabled-fill-color: #AAA;\n",
              "      --disabled-bg-color: #DDD;\n",
              "  }\n",
              "\n",
              "  [theme=dark] .colab-df-quickchart {\n",
              "      --bg-color: #3B4455;\n",
              "      --fill-color: #D2E3FC;\n",
              "      --hover-bg-color: #434B5C;\n",
              "      --hover-fill-color: #FFFFFF;\n",
              "      --disabled-bg-color: #3B4455;\n",
              "      --disabled-fill-color: #666;\n",
              "  }\n",
              "\n",
              "  .colab-df-quickchart {\n",
              "    background-color: var(--bg-color);\n",
              "    border: none;\n",
              "    border-radius: 50%;\n",
              "    cursor: pointer;\n",
              "    display: none;\n",
              "    fill: var(--fill-color);\n",
              "    height: 32px;\n",
              "    padding: 0;\n",
              "    width: 32px;\n",
              "  }\n",
              "\n",
              "  .colab-df-quickchart:hover {\n",
              "    background-color: var(--hover-bg-color);\n",
              "    box-shadow: 0 1px 2px rgba(60, 64, 67, 0.3), 0 1px 3px 1px rgba(60, 64, 67, 0.15);\n",
              "    fill: var(--button-hover-fill-color);\n",
              "  }\n",
              "\n",
              "  .colab-df-quickchart-complete:disabled,\n",
              "  .colab-df-quickchart-complete:disabled:hover {\n",
              "    background-color: var(--disabled-bg-color);\n",
              "    fill: var(--disabled-fill-color);\n",
              "    box-shadow: none;\n",
              "  }\n",
              "\n",
              "  .colab-df-spinner {\n",
              "    border: 2px solid var(--fill-color);\n",
              "    border-color: transparent;\n",
              "    border-bottom-color: var(--fill-color);\n",
              "    animation:\n",
              "      spin 1s steps(1) infinite;\n",
              "  }\n",
              "\n",
              "  @keyframes spin {\n",
              "    0% {\n",
              "      border-color: transparent;\n",
              "      border-bottom-color: var(--fill-color);\n",
              "      border-left-color: var(--fill-color);\n",
              "    }\n",
              "    20% {\n",
              "      border-color: transparent;\n",
              "      border-left-color: var(--fill-color);\n",
              "      border-top-color: var(--fill-color);\n",
              "    }\n",
              "    30% {\n",
              "      border-color: transparent;\n",
              "      border-left-color: var(--fill-color);\n",
              "      border-top-color: var(--fill-color);\n",
              "      border-right-color: var(--fill-color);\n",
              "    }\n",
              "    40% {\n",
              "      border-color: transparent;\n",
              "      border-right-color: var(--fill-color);\n",
              "      border-top-color: var(--fill-color);\n",
              "    }\n",
              "    60% {\n",
              "      border-color: transparent;\n",
              "      border-right-color: var(--fill-color);\n",
              "    }\n",
              "    80% {\n",
              "      border-color: transparent;\n",
              "      border-right-color: var(--fill-color);\n",
              "      border-bottom-color: var(--fill-color);\n",
              "    }\n",
              "    90% {\n",
              "      border-color: transparent;\n",
              "      border-bottom-color: var(--fill-color);\n",
              "    }\n",
              "  }\n",
              "</style>\n",
              "\n",
              "  <script>\n",
              "    async function quickchart(key) {\n",
              "      const quickchartButtonEl =\n",
              "        document.querySelector('#' + key + ' button');\n",
              "      quickchartButtonEl.disabled = true;  // To prevent multiple clicks.\n",
              "      quickchartButtonEl.classList.add('colab-df-spinner');\n",
              "      try {\n",
              "        const charts = await google.colab.kernel.invokeFunction(\n",
              "            'suggestCharts', [key], {});\n",
              "      } catch (error) {\n",
              "        console.error('Error during call to suggestCharts:', error);\n",
              "      }\n",
              "      quickchartButtonEl.classList.remove('colab-df-spinner');\n",
              "      quickchartButtonEl.classList.add('colab-df-quickchart-complete');\n",
              "    }\n",
              "    (() => {\n",
              "      let quickchartButtonEl =\n",
              "        document.querySelector('#df-d4476bc2-3240-49ff-8145-31acb777da49 button');\n",
              "      quickchartButtonEl.style.display =\n",
              "        google.colab.kernel.accessAllowed ? 'block' : 'none';\n",
              "    })();\n",
              "  </script>\n",
              "</div>\n",
              "    </div>\n",
              "  </div>\n"
            ]
          },
          "metadata": {},
          "execution_count": 79
        }
      ]
    },
    {
      "cell_type": "code",
      "source": [
        "# seperating the content and label because doing processing on text can be very costly\n",
        "X=news_data.drop(columns='label',axis=1)\n",
        "Y=news_data['label']"
      ],
      "metadata": {
        "id": "qd2MdeNj8mKP"
      },
      "execution_count": 80,
      "outputs": []
    },
    {
      "cell_type": "code",
      "source": [
        "print(X.shape)\n",
        "print(Y)"
      ],
      "metadata": {
        "colab": {
          "base_uri": "https://localhost:8080/"
        },
        "id": "1165pxOw9GOm",
        "outputId": "f85cf7a3-637b-4c79-d6fe-10c98a727b42"
      },
      "execution_count": 81,
      "outputs": [
        {
          "output_type": "stream",
          "name": "stdout",
          "text": [
            "(20800, 5)\n",
            "0        1\n",
            "1        0\n",
            "2        1\n",
            "3        1\n",
            "4        1\n",
            "        ..\n",
            "20795    0\n",
            "20796    0\n",
            "20797    0\n",
            "20798    1\n",
            "20799    1\n",
            "Name: label, Length: 20800, dtype: int64\n"
          ]
        }
      ]
    },
    {
      "cell_type": "code",
      "source": [
        "# Stemming\n",
        "# stemming is trhe process  of reducing the words to its keyword\n",
        "# eg enjoying=enjoy\n",
        "\n",
        "port_stem=PorterStemmer()"
      ],
      "metadata": {
        "id": "2PsqoXio9ZTq"
      },
      "execution_count": 82,
      "outputs": []
    },
    {
      "cell_type": "code",
      "source": [
        "# create a function which do stemming\n",
        "def stemming(content):\n",
        "  # content = ' '.join(content)\n",
        "  stemmed_content=re.sub('[^a-zA-Z]',' ',content)#iterate through every content of content col and replace the non alphabetic with space r.sub(pattern,replacement,string)\n",
        "  stemmed_content=stemmed_content.lower()#converted all the stemmeedd content to lower case\n",
        "  stemmed_content=stemmed_content.split()\n",
        "  stemmed_content=[port_stem.stem(word) for word in stemmed_content if not word in stopwords.words('english')]#stemmed  every word in content except stopwords\n",
        "  stemmed_content=' '.join(stemmed_content)\n",
        "  return stemmed_content"
      ],
      "metadata": {
        "id": "3DGj_xHs9u4k"
      },
      "execution_count": 83,
      "outputs": []
    },
    {
      "cell_type": "code",
      "source": [
        "# print(news_data['content'].apply(type).unique())\n",
        "# can know the data type of list\n"
      ],
      "metadata": {
        "id": "HBFZu1PAbkqG"
      },
      "execution_count": 84,
      "outputs": []
    },
    {
      "cell_type": "code",
      "source": [
        "news_data['content'] = news_data['content'].apply(stemming)"
      ],
      "metadata": {
        "id": "ZMeswr6kR5_N"
      },
      "execution_count": 85,
      "outputs": []
    },
    {
      "cell_type": "code",
      "source": [
        "news_data['content']"
      ],
      "metadata": {
        "colab": {
          "base_uri": "https://localhost:8080/"
        },
        "id": "UwXUCUtfY__5",
        "outputId": "00e34833-adbc-4e00-e93e-34438dde1189"
      },
      "execution_count": 86,
      "outputs": [
        {
          "output_type": "execute_result",
          "data": {
            "text/plain": [
              "0        darrel lucu hous dem aid even see comey letter...\n",
              "1        daniel j flynn flynn hillari clinton big woman...\n",
              "2                   consortiumnew com truth might get fire\n",
              "3        jessica purkiss civilian kill singl us airstri...\n",
              "4        howard portnoy iranian woman jail fiction unpu...\n",
              "                               ...                        \n",
              "20795    jerom hudson rapper trump poster child white s...\n",
              "20796    benjamin hoffman n f l playoff schedul matchup...\n",
              "20797    michael j de la merc rachel abram maci said re...\n",
              "20798    alex ansari nato russia hold parallel exercis ...\n",
              "20799                            david swanson keep f aliv\n",
              "Name: content, Length: 20800, dtype: object"
            ]
          },
          "metadata": {},
          "execution_count": 86
        }
      ]
    },
    {
      "cell_type": "code",
      "source": [
        "X=news_data['content']\n",
        "Y=news_data['label']"
      ],
      "metadata": {
        "id": "t0G47Vdga7QZ"
      },
      "execution_count": 87,
      "outputs": []
    },
    {
      "cell_type": "code",
      "source": [
        "# feature extraction\n",
        "vectorizer=TfidfVectorizer()\n",
        "X=vectorizer.fit_transform(X)\n"
      ],
      "metadata": {
        "id": "aw2N9K9o1aQF"
      },
      "execution_count": 88,
      "outputs": []
    },
    {
      "cell_type": "code",
      "source": [
        "print(X)"
      ],
      "metadata": {
        "colab": {
          "base_uri": "https://localhost:8080/"
        },
        "id": "fbUZmwez4AS3",
        "outputId": "38b85543-9757-43a8-ff99-a2c3a72af76a"
      },
      "execution_count": 89,
      "outputs": [
        {
          "output_type": "stream",
          "name": "stdout",
          "text": [
            "  (0, 15686)\t0.28485063562728646\n",
            "  (0, 2483)\t0.3676519686797209\n",
            "  (0, 7692)\t0.24785219520671603\n",
            "  (0, 8630)\t0.29212514087043684\n",
            "  (0, 2959)\t0.2468450128533713\n",
            "  (0, 13473)\t0.2565896679337957\n",
            "  (0, 4973)\t0.233316966909351\n",
            "  (0, 267)\t0.27010124977708766\n",
            "  (0, 3792)\t0.2705332480845492\n",
            "  (0, 7005)\t0.21874169089359144\n",
            "  (0, 8909)\t0.3635963806326075\n",
            "  (0, 3600)\t0.3598939188262559\n",
            "  (1, 1894)\t0.15521974226349364\n",
            "  (1, 2223)\t0.3827320386859759\n",
            "  (1, 16799)\t0.30071745655510157\n",
            "  (1, 1497)\t0.2939891562094648\n",
            "  (1, 2813)\t0.19094574062359204\n",
            "  (1, 6816)\t0.1904660198296849\n",
            "  (1, 5503)\t0.7143299355715573\n",
            "  (1, 3568)\t0.26373768806048464\n",
            "  (2, 5389)\t0.3866530551182615\n",
            "  (2, 5968)\t0.3474613386728292\n",
            "  (2, 9620)\t0.49351492943649944\n",
            "  (2, 15611)\t0.41544962664721613\n",
            "  (2, 2943)\t0.3179886800654691\n",
            "  :\t:\n",
            "  (20797, 1287)\t0.3353805680413986\n",
            "  (20797, 13122)\t0.24825263521976057\n",
            "  (20797, 12344)\t0.27263457663336677\n",
            "  (20797, 14967)\t0.3115945315488075\n",
            "  (20797, 12138)\t0.24778257724396505\n",
            "  (20797, 9518)\t0.29542040034203126\n",
            "  (20797, 8364)\t0.22322585870464115\n",
            "  (20797, 3643)\t0.2115550061362374\n",
            "  (20797, 7042)\t0.21799048897828685\n",
            "  (20797, 9588)\t0.17455348025522197\n",
            "  (20797, 15295)\t0.08159261204402356\n",
            "  (20797, 16996)\t0.08315655906109998\n",
            "  (20797, 10306)\t0.08038079000566466\n",
            "  (20798, 1125)\t0.4460515589182236\n",
            "  (20798, 5032)\t0.4083701450239529\n",
            "  (20798, 588)\t0.3112141524638974\n",
            "  (20798, 350)\t0.28446937819072576\n",
            "  (20798, 11052)\t0.4460515589182236\n",
            "  (20798, 6889)\t0.32496285694299426\n",
            "  (20798, 10177)\t0.3192496370187028\n",
            "  (20798, 13046)\t0.22363267488270608\n",
            "  (20799, 377)\t0.5677577267055112\n",
            "  (20799, 14852)\t0.5677577267055112\n",
            "  (20799, 3623)\t0.37927626273066584\n",
            "  (20799, 8036)\t0.45983893273780013\n"
          ]
        }
      ]
    },
    {
      "cell_type": "code",
      "source": [
        "# splitting the datset into training and test data\n",
        "X_train,X_test,Y_train,Y_test=train_test_split(X,Y,test_size=0.2,random_state=2)"
      ],
      "metadata": {
        "id": "MAO3HA-KxjPc"
      },
      "execution_count": 90,
      "outputs": []
    },
    {
      "cell_type": "markdown",
      "source": [
        "training the model LOgistic Regression"
      ],
      "metadata": {
        "id": "2EheM9ADyNt8"
      }
    },
    {
      "cell_type": "code",
      "source": [
        "model=LogisticRegression()"
      ],
      "metadata": {
        "id": "fPKHO8vhx33M"
      },
      "execution_count": 91,
      "outputs": []
    },
    {
      "cell_type": "code",
      "source": [
        "model.fit(X_train,Y_train)"
      ],
      "metadata": {
        "colab": {
          "base_uri": "https://localhost:8080/",
          "height": 74
        },
        "id": "jMFXDFDVypG_",
        "outputId": "44dd67c0-3f18-4092-a09d-9f78041ca976"
      },
      "execution_count": 92,
      "outputs": [
        {
          "output_type": "execute_result",
          "data": {
            "text/plain": [
              "LogisticRegression()"
            ],
            "text/html": [
              "<style>#sk-container-id-2 {color: black;background-color: white;}#sk-container-id-2 pre{padding: 0;}#sk-container-id-2 div.sk-toggleable {background-color: white;}#sk-container-id-2 label.sk-toggleable__label {cursor: pointer;display: block;width: 100%;margin-bottom: 0;padding: 0.3em;box-sizing: border-box;text-align: center;}#sk-container-id-2 label.sk-toggleable__label-arrow:before {content: \"▸\";float: left;margin-right: 0.25em;color: #696969;}#sk-container-id-2 label.sk-toggleable__label-arrow:hover:before {color: black;}#sk-container-id-2 div.sk-estimator:hover label.sk-toggleable__label-arrow:before {color: black;}#sk-container-id-2 div.sk-toggleable__content {max-height: 0;max-width: 0;overflow: hidden;text-align: left;background-color: #f0f8ff;}#sk-container-id-2 div.sk-toggleable__content pre {margin: 0.2em;color: black;border-radius: 0.25em;background-color: #f0f8ff;}#sk-container-id-2 input.sk-toggleable__control:checked~div.sk-toggleable__content {max-height: 200px;max-width: 100%;overflow: auto;}#sk-container-id-2 input.sk-toggleable__control:checked~label.sk-toggleable__label-arrow:before {content: \"▾\";}#sk-container-id-2 div.sk-estimator input.sk-toggleable__control:checked~label.sk-toggleable__label {background-color: #d4ebff;}#sk-container-id-2 div.sk-label input.sk-toggleable__control:checked~label.sk-toggleable__label {background-color: #d4ebff;}#sk-container-id-2 input.sk-hidden--visually {border: 0;clip: rect(1px 1px 1px 1px);clip: rect(1px, 1px, 1px, 1px);height: 1px;margin: -1px;overflow: hidden;padding: 0;position: absolute;width: 1px;}#sk-container-id-2 div.sk-estimator {font-family: monospace;background-color: #f0f8ff;border: 1px dotted black;border-radius: 0.25em;box-sizing: border-box;margin-bottom: 0.5em;}#sk-container-id-2 div.sk-estimator:hover {background-color: #d4ebff;}#sk-container-id-2 div.sk-parallel-item::after {content: \"\";width: 100%;border-bottom: 1px solid gray;flex-grow: 1;}#sk-container-id-2 div.sk-label:hover label.sk-toggleable__label {background-color: #d4ebff;}#sk-container-id-2 div.sk-serial::before {content: \"\";position: absolute;border-left: 1px solid gray;box-sizing: border-box;top: 0;bottom: 0;left: 50%;z-index: 0;}#sk-container-id-2 div.sk-serial {display: flex;flex-direction: column;align-items: center;background-color: white;padding-right: 0.2em;padding-left: 0.2em;position: relative;}#sk-container-id-2 div.sk-item {position: relative;z-index: 1;}#sk-container-id-2 div.sk-parallel {display: flex;align-items: stretch;justify-content: center;background-color: white;position: relative;}#sk-container-id-2 div.sk-item::before, #sk-container-id-2 div.sk-parallel-item::before {content: \"\";position: absolute;border-left: 1px solid gray;box-sizing: border-box;top: 0;bottom: 0;left: 50%;z-index: -1;}#sk-container-id-2 div.sk-parallel-item {display: flex;flex-direction: column;z-index: 1;position: relative;background-color: white;}#sk-container-id-2 div.sk-parallel-item:first-child::after {align-self: flex-end;width: 50%;}#sk-container-id-2 div.sk-parallel-item:last-child::after {align-self: flex-start;width: 50%;}#sk-container-id-2 div.sk-parallel-item:only-child::after {width: 0;}#sk-container-id-2 div.sk-dashed-wrapped {border: 1px dashed gray;margin: 0 0.4em 0.5em 0.4em;box-sizing: border-box;padding-bottom: 0.4em;background-color: white;}#sk-container-id-2 div.sk-label label {font-family: monospace;font-weight: bold;display: inline-block;line-height: 1.2em;}#sk-container-id-2 div.sk-label-container {text-align: center;}#sk-container-id-2 div.sk-container {/* jupyter's `normalize.less` sets `[hidden] { display: none; }` but bootstrap.min.css set `[hidden] { display: none !important; }` so we also need the `!important` here to be able to override the default hidden behavior on the sphinx rendered scikit-learn.org. See: https://github.com/scikit-learn/scikit-learn/issues/21755 */display: inline-block !important;position: relative;}#sk-container-id-2 div.sk-text-repr-fallback {display: none;}</style><div id=\"sk-container-id-2\" class=\"sk-top-container\"><div class=\"sk-text-repr-fallback\"><pre>LogisticRegression()</pre><b>In a Jupyter environment, please rerun this cell to show the HTML representation or trust the notebook. <br />On GitHub, the HTML representation is unable to render, please try loading this page with nbviewer.org.</b></div><div class=\"sk-container\" hidden><div class=\"sk-item\"><div class=\"sk-estimator sk-toggleable\"><input class=\"sk-toggleable__control sk-hidden--visually\" id=\"sk-estimator-id-2\" type=\"checkbox\" checked><label for=\"sk-estimator-id-2\" class=\"sk-toggleable__label sk-toggleable__label-arrow\">LogisticRegression</label><div class=\"sk-toggleable__content\"><pre>LogisticRegression()</pre></div></div></div></div></div>"
            ]
          },
          "metadata": {},
          "execution_count": 92
        }
      ]
    },
    {
      "cell_type": "markdown",
      "source": [
        "Evaluation of the model"
      ],
      "metadata": {
        "id": "nkVTXAHVy4i5"
      }
    },
    {
      "cell_type": "code",
      "source": [
        "# prediction accuracy on training data\n",
        "\n",
        "X_train_prediction=model.predict(X_train)\n",
        "training_data_accuracy=accuracy_score(X_train_prediction,Y_train)"
      ],
      "metadata": {
        "id": "10zQzv8syy3e"
      },
      "execution_count": 93,
      "outputs": []
    },
    {
      "cell_type": "code",
      "source": [
        "print(\"Accuracy of our Model on training data is:\",training_data_accuracy)"
      ],
      "metadata": {
        "colab": {
          "base_uri": "https://localhost:8080/"
        },
        "id": "ukFN7cBkzax1",
        "outputId": "7c029af8-979b-4012-cb43-e3e02d38effd"
      },
      "execution_count": 94,
      "outputs": [
        {
          "output_type": "stream",
          "name": "stdout",
          "text": [
            "Accuracy of our Model on training data is: 0.9873798076923077\n"
          ]
        }
      ]
    },
    {
      "cell_type": "code",
      "source": [
        "X_test_prediction=model.predict(X_test)\n",
        "testing_data_accuracy=accuracy_score(X_test_prediction,Y_test)"
      ],
      "metadata": {
        "id": "BUs8WqxpzxaO"
      },
      "execution_count": 95,
      "outputs": []
    },
    {
      "cell_type": "code",
      "source": [
        "print(\"Accuracy on the testing data is: \",testing_data_accuracy)"
      ],
      "metadata": {
        "colab": {
          "base_uri": "https://localhost:8080/"
        },
        "id": "Iho1QxKw0CJN",
        "outputId": "8c0c7715-1634-47f7-daea-abaa3d7c8265"
      },
      "execution_count": 96,
      "outputs": [
        {
          "output_type": "stream",
          "name": "stdout",
          "text": [
            "Accuracy on the testing data is:  0.9774038461538461\n"
          ]
        }
      ]
    },
    {
      "cell_type": "code",
      "source": [
        "# taking the user input\n",
        "# Taking user input\n",
        "while True:\n",
        "    choice = input(\"Enter 1 for continue and 0 for stopping\")\n",
        "    print(\"You entered:\", choice)  # Debugging line to check the value of choice\n",
        "    if choice == \"0\":\n",
        "        break\n",
        "    else:\n",
        "        user_input = input(\"Enter the news: \")\n",
        "        # Preprocess the user input (you can customize this preprocessing)\n",
        "        # For simplicity, let's assume lowercase and tokenization here\n",
        "        preprocessed_input = user_input.lower()  # Tokenization\n",
        "\n",
        "        # Transform the preprocessed input using the same vectorizer\n",
        "        input_vect = vectorizer.transform([\" \".join(preprocessed_input)])\n",
        "\n",
        "        # Predict using the trained model\n",
        "        prediction = model.predict(input_vect)\n",
        "\n",
        "        if prediction[0] == 0:\n",
        "            print(\"Real News\")\n",
        "        else:\n",
        "            print(\"Fake News\")\n",
        "\n",
        "\n",
        "\n"
      ],
      "metadata": {
        "colab": {
          "base_uri": "https://localhost:8080/"
        },
        "id": "usJaR8a90QIw",
        "outputId": "13ea938a-fd37-4949-9c5c-4e259520f305"
      },
      "execution_count": 104,
      "outputs": [
        {
          "output_type": "stream",
          "name": "stdout",
          "text": [
            "Enter 1 for continue and 0 for stopping1\n",
            "You entered: 1\n",
            "Enter the news: Workers at an Ultium Cells plant in Ohio are fighting for fair wages and safety on the job. What happens there could help set the tone for similar joint-venture plants across the country.\n",
            "Fake News\n",
            "Enter 1 for continue and 0 for stoppingTHERE’S NO SUCH THING AS A ‘UNION BOSS’—WHAT LABOR REPORTERS GET WRONG Kim Kelly, Sarah Jaffe, Abigail Higgins, and Braden Campbell dig into the ins and outs of labor reporting, how unions actually work, and what media gets wrong about the workers’ struggle over and over again.\n",
            "You entered: THERE’S NO SUCH THING AS A ‘UNION BOSS’—WHAT LABOR REPORTERS GET WRONG Kim Kelly, Sarah Jaffe, Abigail Higgins, and Braden Campbell dig into the ins and outs of labor reporting, how unions actually work, and what media gets wrong about the workers’ struggle over and over again.\n",
            "Enter the news: THERE’S NO SUCH THING AS A ‘UNION BOSS’—WHAT LABOR REPORTERS GET WRONG Kim Kelly, Sarah Jaffe, Abigail Higgins, and Braden Campbell dig into the ins and outs of labor reporting, how unions actually work, and what media gets wrong about the workers’ struggle over and over again.\n",
            "Fake News\n",
            "Enter 1 for continue and 0 for stopping1\n",
            "You entered: 1\n",
            "Enter the news: China to take more action to revive property sector China to take more action to revive property sector China is set to take further action including relaxing home-purchase restrictions as it scrambles to tackle a deepening crisis in its massive debt-riddled property sector. The property sector accounts for roughly a quarter of China, yet it is in the throes of an unprecedented debt crisis that market participants fear could spread throughout the financial sector at home and beyond.\n",
            "Fake News\n",
            "Enter 1 for continue and 0 for stopping1\n",
            "You entered: 1\n",
            "Enter the news: Ever get the feeling your life circles the roundabout rather than heads in a straight line toward the intended destination? [Hillary Clinton remains the big woman on campus in leafy, liberal Wellesley, Massachusetts. Everywhere else votes her most likely to don her inauguration dress for the remainder of her days the way Miss Havisham forever wore that wedding dress.  Speaking of Great Expectations, Hillary Rodham overflowed with them 48 years ago when she first addressed a Wellesley graduating class. The president of the college informed those gathered in 1969 that the students needed â€œno debate so far as I could ascertain as to who their spokesman was to beâ€ (kind of the like the Democratic primaries in 2016 minus the   terms unknown then even at a Seven Sisters school). â€œI am very glad that Miss Adams made it clear that what I am speaking for today is all of us â€”  the 400 of us,â€ Miss Rodham told her classmates. After appointing herself Edger Bergen to the Charlie McCarthys and Mortimer Snerds in attendance, the    bespectacled in granny glasses (awarding her matronly wisdom â€”  or at least John Lennon wisdom) took issue with the previous speaker. Despite becoming the first   to win election to a seat in the U. S. Senate since Reconstruction, Edward Brooke came in for criticism for calling for â€œempathyâ€ for the goals of protestors as he criticized tactics. Though Clinton in her senior thesis on Saul Alinsky lamented â€œBlack Power demagoguesâ€ and â€œelitist arrogance and repressive intoleranceâ€ within the New Left, similar words coming out of a Republican necessitated a brief rebuttal. â€œTrust,â€ Rodham ironically observed in 1969, â€œthis is one word that when I asked the class at our rehearsal what it was they wanted me to say for them, everyone came up to me and said â€˜Talk about trust, talk about the lack of trust both for us and the way we feel about others. Talk about the trust bust.â€™ What can you say about it? What can you say about a feeling that permeates a generation and that perhaps is not even understood by those who are distrusted?â€ The â€œtrust bustâ€ certainly busted Clintonâ€™s 2016 plans. She certainly did not even understand that people distrusted her. After Whitewater, Travelgate, the vast   conspiracy, Benghazi, and the missing emails, Clinton found herself the distrusted voice on Friday. There was a load of compromising on the road to the broadening of her political horizons. And distrust from the American people â€”  Trump edged her 48 percent to 38 percent on the question immediately prior to Novemberâ€™s election â€”  stood as a major reason for the closing of those horizons. Clinton described her vanquisher and his supporters as embracing a â€œlie,â€ a â€œcon,â€ â€œalternative facts,â€ and â€œa   assault on truth and reason. â€ She failed to explain why the American people chose his lies over her truth. â€œAs the history majors among you here today know all too well, when people in power invent their own facts and attack those who question them, it can mark the beginning of the end of a free society,â€ she offered. â€œThat is not hyperbole. â€ Like so many people to emerge from the 1960s, Hillary Clinton embarked upon a long, strange trip. From high school Goldwater Girl and Wellesley College Republican president to Democratic politician, Clinton drank in the times and the place that gave her a degree. More significantly, she went from idealist to cynic, as a comparison of her two Wellesley commencement addresses show. Way back when, she lamented that â€œfor too long our leaders have viewed politics as the art of the possible, and the challenge now is to practice politics as the art of making what appears to be impossible possible. â€ Now, as the big woman on campus but the odd woman out of the White House, she wonders how her current station is even possible. â€œWhy arenâ€™t I 50 points ahead?â€ she asked in September. In May she asks why she isnâ€™t president. The woman famously dubbed a â€œcongenital liarâ€ by Bill Safire concludes that lies did her in â€”  theirs, mind you, not hers. Getting stood up on Election Day, like finding yourself the jilted bride on your wedding day, inspires dangerous delusions.\n",
            "Fake News\n",
            "Enter 1 for continue and 0 for stopping1\n",
            "You entered: 1\n",
            "Enter the news: Guillermo Barros Schelotto was not the first Argentine player to set foot on a Major League Soccer field. Statistically speaking, he was the 28th when he made his debut for the Columbus Crew in 2007. But Schelottoâ€™s phone still rings to this day, more than six years after he left the league, with calls from fellow Argentines looking for advice. Though Schelotto, 43, is currently the coach of Boca Juniors, the most decorated team in Argentina, most of the players who call him want to talk about other teams, about other countries, about a soccer world away from the   environment of Buenos Aires. â€œMost of them like to talk about the cities,â€ Schelotto said. Many of them find a way to come. Argentines now make up the   demographic in M. L. S. trailing only Americans. According to the Elias Sports Bureau, going into this seasonâ€™s openers, 98 Argentine players had been featured in an M. L. S.   game since the leagueâ€™s inception. Sebastian Blanco, a new designated player for Portland, made his debut in an opener Friday and became No. 99. In a ranking by nationality, Argentines have the   goal total, too. Twelve of the 22 teams in M. L. S. will start the season with at least one Argentine on their roster, a list that includes stars like Dallasâ€™s Mauro Diaz and Montrealâ€™s Ignacio Piatti and newcomers like Atlantaâ€™s Hector Villalba and New York City F. C.â€™s Maxi Moralez. Why do they come? For some itâ€™s the money, or at least the promise that it will be paid regularly. Others come for the lifestyle, the chance to fade into a comparative anonymity unavailable to them at home, or to live the â€œquiet, cleanâ€ life that Schelotto describes as he reminisces about his days in Ohio. The Portland Timbers playmaker Diego Valeri was one such player who called Schelotto, his former manager, and he eventually heeded his advice. But he said it was for an entirely different reason. A year before he signed with Portland, while under contract to his hometown club Lanus, Valeri had had a gun pressed to his throat when robbers attempted to steal his BMW with his wife, Florencia, and daughter, Connie, inside. â€œAfter that moment,â€ Valeri said with considerable understatement, â€œwe thought about opportunities to play outside and know different places in the world. â€ Within a year, Valeri, who had had loan spells in Portugal and Spain, was on his way to Portland. â€œSituations like that are very hard for the Argentinian people to change,â€ he said. The    Valeri and his family are now settled in the Northwest, where he is playing arguably the best soccer of his career. He is a     and in between was named the most valuable player when Portland won the 2015 M. L. S. Cup championship game. â€œI think they like the anonymity and the tranquillity here,â€ Caleb Porter, Valeriâ€™s coach with the Timbers, said of his star and his countrymen. â€œThey really relish the opportunity to be here and to live a lifestyle thatâ€™s different to how they lived in Argentina. They transition well into M. L. S. â€ Since 2011, Portland has signed six Argentines, including its   acquisition of Blanco, 28. Valeri has been a good ambassador  â€”   he speaks English and urges newcomers to try to learn it as soon as possible, to ease the transition. But Porter and the Timbersâ€™ general manager and president of soccer, Gavin Wilkinson, believe there is another, more straightforward reason for Argentinaâ€™s outsize presence in M. L. S.: It simply produces the kind of technical player that the league desires. â€œCertain countries produce certain positions more,â€ Porter said. â€œMost teams are looking for that creative piece, and you know you can get one in Argentina. â€ A large alumni directory and strong ties to agents and consultants in the region have made that kind of shopping easier for M. L. S. teams, and in the past the struggles of the Argentine economy also favored North American clubs, some said. But there also has been a change in the kind of individual looking to make the move north, and that has dovetailed with the leagueâ€™s overall transfer policy. As the quality of M. L. S. has improved as it enters its third decade, its teams have looked less for marketability from its imports  â€”   which in the past had trended toward aging, often European stars  â€”   and more toward onfield impact and value. The latest class of Argentines reflects this shift, as they enter a league where the average age of designated players  â€”   the teamâ€™s   stars  â€”   has fallen below 28, its lowest point in a decade. â€œThey know that M. L. S. is different to 10 years ago,â€ said Schelotto, who was 34 when he moved to the league. â€œThey can go, make good money, play with some pressure. They know they can make a career in the United States and then maybe move to Europe. â€œTen years ago, it was impossible. Right now, you can. â€ There are currently 24 Argentines playing in the league. Atlanta United and its Argentine coach, Tata Martino, brought in three ahead of its first season, each of them 25 or younger (Villalba is just 22). Buying young is now seen as more of a benefit to clubs than a risk, as players who continue to develop retain a   value if they move on to brighter prospects in Europe. â€œPeople are coming here younger and younger, maybe to start their careers,â€ Ignacio Piatti, a    playmaker for the Montreal Impact, said through an interpreter. â€œItâ€™s what they are looking for at that age: being able to live a comfortable life off the field and focus on their games. â€ Piatti, like Schelotto, has been happy to offer advice to the next wave of Argentine talents considering entering M. L. S. including players on both sides of the Hudson River. Gonzalo Veron, 27, of the Red Bulls, and Moralez, 30, who recently signed with New York City F. C. both acknowledged that they had turned to Piatti for advice before signing. At a community event in East Harlem last week, Moralez  â€”   who spent four years in Italy  â€”   reflected on his decision to move to the United States. He had never been to New York City before signing, he said, and after turning to the likes of Piatti and David Villa for advice about the leagueâ€™s standard of play, he said he also sought assurances for his family, who are set to join him in New York shortly. â€œFirst off, I just want to enjoy football,â€ Moralez said. â€œBut also to get to know the beauty of the city and the country. Not everybody gets the opportunity to come here. â€\n",
            "Fake News\n",
            "Enter 1 for continue and 0 for stoppingJack Williams: Guillermo Barros Schelotto was not the first Argentine player to set foot on a Major League Soccer field. Statistically speaking, he was the 28th when he made his debut for the Columbus Crew in 2007. But Schelottoâ€™s phone still rings to this day, more than six years after he left the league, with calls from fellow Argentines looking for advice. Though Schelotto, 43, is currently the coach of Boca Juniors, the most decorated team in Argentina, most of the players who call him want to talk about other teams, about other countries, about a soccer world away from the   environment of Buenos Aires. â€œMost of them like to talk about the cities,â€ Schelotto said. Many of them find a way to come. Argentines now make up the   demographic in M. L. S. trailing only Americans. According to the Elias Sports Bureau, going into this seasonâ€™s openers, 98 Argentine players had been featured in an M. L. S.   game since the leagueâ€™s inception. Sebastian Blanco, a new designated player for Portland, made his debut in an opener Friday and became No. 99. In a ranking by nationality, Argentines have the   goal total, too. Twelve of the 22 teams in M. L. S. will start the season with at least one Argentine on their roster, a list that includes stars like Dallasâ€™s Mauro Diaz and Montrealâ€™s Ignacio Piatti and newcomers like Atlantaâ€™s Hector Villalba and New York City F. C.â€™s Maxi Moralez. Why do they come? For some itâ€™s the money, or at least the promise that it will be paid regularly. Others come for the lifestyle, the chance to fade into a comparative anonymity unavailable to them at home, or to live the â€œquiet, cleanâ€ life that Schelotto describes as he reminisces about his days in Ohio. The Portland Timbers playmaker Diego Valeri was one such player who called Schelotto, his former manager, and he eventually heeded his advice. But he said it was for an entirely different reason. A year before he signed with Portland, while under contract to his hometown club Lanus, Valeri had had a gun pressed to his throat when robbers attempted to steal his BMW with his wife, Florencia, and daughter, Connie, inside. â€œAfter that moment,â€ Valeri said with considerable understatement, â€œwe thought about opportunities to play outside and know different places in the world. â€ Within a year, Valeri, who had had loan spells in Portugal and Spain, was on his way to Portland. â€œSituations like that are very hard for the Argentinian people to change,â€ he said. The    Valeri and his family are now settled in the Northwest, where he is playing arguably the best soccer of his career. He is a     and in between was named the most valuable player when Portland won the 2015 M. L. S. Cup championship game. â€œI think they like the anonymity and the tranquillity here,â€ Caleb Porter, Valeriâ€™s coach with the Timbers, said of his star and his countrymen. â€œThey really relish the opportunity to be here and to live a lifestyle thatâ€™s different to how they lived in Argentina. They transition well into M. L. S. â€ Since 2011, Portland has signed six Argentines, including its   acquisition of Blanco, 28. Valeri has been a good ambassador  â€”   he speaks English and urges newcomers to try to learn it as soon as possible, to ease the transition. But Porter and the Timbersâ€™ general manager and president of soccer, Gavin Wilkinson, believe there is another, more straightforward reason for Argentinaâ€™s outsize presence in M. L. S.: It simply produces the kind of technical player that the league desires. â€œCertain countries produce certain positions more,â€ Porter said. â€œMost teams are looking for that creative piece, and you know you can get one in Argentina. â€ A large alumni directory and strong ties to agents and consultants in the region have made that kind of shopping easier for M. L. S. teams, and in the past the struggles of the Argentine economy also favored North American clubs, some said. But there also has been a change in the kind of individual looking to make the move north, and that has dovetailed with the leagueâ€™s overall transfer policy. As the quality of M. L. S. has improved as it enters its third decade, its teams have looked less for marketability from its imports  â€”   which in the past had trended toward aging, often European stars  â€”   and more toward onfield impact and value. The latest class of Argentines reflects this shift, as they enter a league where the average age of designated players  â€”   the teamâ€™s   stars  â€”   has fallen below 28, its lowest point in a decade. â€œThey know that M. L. S. is different to 10 years ago,â€ said Schelotto, who was 34 when he moved to the league. â€œThey can go, make good money, play with some pressure. They know they can make a career in the United States and then maybe move to Europe. â€œTen years ago, it was impossible. Right now, you can. â€ There are currently 24 Argentines playing in the league. Atlanta United and its Argentine coach, Tata Martino, brought in three ahead of its first season, each of them 25 or younger (Villalba is just 22). Buying young is now seen as more of a benefit to clubs than a risk, as players who continue to develop retain a   value if they move on to brighter prospects in Europe. â€œPeople are coming here younger and younger, maybe to start their careers,â€ Ignacio Piatti, a    playmaker for the Montreal Impact, said through an interpreter. â€œItâ€™s what they are looking for at that age: being able to live a comfortable life off the field and focus on their games. â€ Piatti, like Schelotto, has been happy to offer advice to the next wave of Argentine talents considering entering M. L. S. including players on both sides of the Hudson River. Gonzalo Veron, 27, of the Red Bulls, and Moralez, 30, who recently signed with New York City F. C. both acknowledged that they had turned to Piatti for advice before signing. At a community event in East Harlem last week, Moralez  â€”   who spent four years in Italy  â€”   reflected on his decision to move to the United States. He had never been to New York City before signing, he said, and after turning to the likes of Piatti and David Villa for advice about the leagueâ€™s standard of play, he said he also sought assurances for his family, who are set to join him in New York shortly. â€œFirst off, I just want to enjoy football,â€ Moralez said. â€œBut also to get to know the beauty of the city and the country. Not everybody gets the opportunity to come here. â€\n",
            "You entered: Jack Williams: Guillermo Barros Schelotto was not the first Argentine player to set foot on a Major League Soccer field. Statistically speaking, he was the 28th when he made his debut for the Columbus Crew in 2007. But Schelottoâ€™s phone still rings to this day, more than six years after he left the league, with calls from fellow Argentines looking for advice. Though Schelotto, 43, is currently the coach of Boca Juniors, the most decorated team in Argentina, most of the players who call him want to talk about other teams, about other countries, about a soccer world away from the   environment of Buenos Aires. â€œMost of them like to talk about the cities,â€ Schelotto said. Many of them find a way to come. Argentines now make up the   demographic in M. L. S. trailing only Americans. According to the Elias Sports Bureau, going into this seasonâ€™s openers, 98 Argentine players had been featured in an M. L. S.   game since the leagueâ€™s inception. Sebastian Blanco, a new designated player for Portland, made his debut in an opener Friday and became No. 99. In a ranking by nationality, Argentines have the   goal total, too. Twelve of the 22 teams in M. L. S. will start the season with at least one Argentine on their roster, a list that includes stars like Dallasâ€™s Mauro Diaz and Montrealâ€™s Ignacio Piatti and newcomers like Atlantaâ€™s Hector Villalba and New York City F. C.â€™s Maxi Moralez. Why do they come? For some itâ€™s the money, or at least the promise that it will be paid regularly. Others come for the lifestyle, the chance to fade into a comparative anonymity unavailable to them at home, or to live the â€œquiet, cleanâ€ life that Schelotto describes as he reminisces about his days in Ohio. The Portland Timbers playmaker Diego Valeri was one such player who called Schelotto, his former manager, and he eventually heeded his advice. But he said it was for an entirely different reason. A year before he signed with Portland, while under contract to his hometown club Lanus, Valeri had had a gun pressed to his throat when robbers attempted to steal his BMW with his wife, Florencia, and daughter, Connie, inside. â€œAfter that moment,â€ Valeri said with considerable understatement, â€œwe thought about opportunities to play outside and know different places in the world. â€ Within a year, Valeri, who had had loan spells in Portugal and Spain, was on his way to Portland. â€œSituations like that are very hard for the Argentinian people to change,â€ he said. The    Valeri and his family are now settled in the Northwest, where he is playing arguably the best soccer of his career. He is a     and in between was named the most valuable player when Portland won the 2015 M. L. S. Cup championship game. â€œI think they like the anonymity and the tranquillity here,â€ Caleb Porter, Valeriâ€™s coach with the Timbers, said of his star and his countrymen. â€œThey really relish the opportunity to be here and to live a lifestyle thatâ€™s different to how they lived in Argentina. They transition well into M. L. S. â€ Since 2011, Portland has signed six Argentines, including its   acquisition of Blanco, 28. Valeri has been a good ambassador  â€”   he speaks English and urges newcomers to try to learn it as soon as possible, to ease the transition. But Porter and the Timbersâ€™ general manager and president of soccer, Gavin Wilkinson, believe there is another, more straightforward reason for Argentinaâ€™s outsize presence in M. L. S.: It simply produces the kind of technical player that the league desires. â€œCertain countries produce certain positions more,â€ Porter said. â€œMost teams are looking for that creative piece, and you know you can get one in Argentina. â€ A large alumni directory and strong ties to agents and consultants in the region have made that kind of shopping easier for M. L. S. teams, and in the past the struggles of the Argentine economy also favored North American clubs, some said. But there also has been a change in the kind of individual looking to make the move north, and that has dovetailed with the leagueâ€™s overall transfer policy. As the quality of M. L. S. has improved as it enters its third decade, its teams have looked less for marketability from its imports  â€”   which in the past had trended toward aging, often European stars  â€”   and more toward onfield impact and value. The latest class of Argentines reflects this shift, as they enter a league where the average age of designated players  â€”   the teamâ€™s   stars  â€”   has fallen below 28, its lowest point in a decade. â€œThey know that M. L. S. is different to 10 years ago,â€ said Schelotto, who was 34 when he moved to the league. â€œThey can go, make good money, play with some pressure. They know they can make a career in the United States and then maybe move to Europe. â€œTen years ago, it was impossible. Right now, you can. â€ There are currently 24 Argentines playing in the league. Atlanta United and its Argentine coach, Tata Martino, brought in three ahead of its first season, each of them 25 or younger (Villalba is just 22). Buying young is now seen as more of a benefit to clubs than a risk, as players who continue to develop retain a   value if they move on to brighter prospects in Europe. â€œPeople are coming here younger and younger, maybe to start their careers,â€ Ignacio Piatti, a    playmaker for the Montreal Impact, said through an interpreter. â€œItâ€™s what they are looking for at that age: being able to live a comfortable life off the field and focus on their games. â€ Piatti, like Schelotto, has been happy to offer advice to the next wave of Argentine talents considering entering M. L. S. including players on both sides of the Hudson River. Gonzalo Veron, 27, of the Red Bulls, and Moralez, 30, who recently signed with New York City F. C. both acknowledged that they had turned to Piatti for advice before signing. At a community event in East Harlem last week, Moralez  â€”   who spent four years in Italy  â€”   reflected on his decision to move to the United States. He had never been to New York City before signing, he said, and after turning to the likes of Piatti and David Villa for advice about the leagueâ€™s standard of play, he said he also sought assurances for his family, who are set to join him in New York shortly. â€œFirst off, I just want to enjoy football,â€ Moralez said. â€œBut also to get to know the beauty of the city and the country. Not everybody gets the opportunity to come here. â€\n",
            "Enter the news: Jack Williams: Guillermo Barros Schelotto was not the first Argentine player to set foot on a Major League Soccer field. Statistically speaking, he was the 28th when he made his debut for the Columbus Crew in 2007. But Schelottoâ€™s phone still rings to this day, more than six years after he left the league, with calls from fellow Argentines looking for advice. Though Schelotto, 43, is currently the coach of Boca Juniors, the most decorated team in Argentina, most of the players who call him want to talk about other teams, about other countries, about a soccer world away from the   environment of Buenos Aires. â€œMost of them like to talk about the cities,â€ Schelotto said. Many of them find a way to come. Argentines now make up the   demographic in M. L. S. trailing only Americans. According to the Elias Sports Bureau, going into this seasonâ€™s openers, 98 Argentine players had been featured in an M. L. S.   game since the leagueâ€™s inception. Sebastian Blanco, a new designated player for Portland, made his debut in an opener Friday and became No. 99. In a ranking by nationality, Argentines have the   goal total, too. Twelve of the 22 teams in M. L. S. will start the season with at least one Argentine on their roster, a list that includes stars like Dallasâ€™s Mauro Diaz and Montrealâ€™s Ignacio Piatti and newcomers like Atlantaâ€™s Hector Villalba and New York City F. C.â€™s Maxi Moralez. Why do they come? For some itâ€™s the money, or at least the promise that it will be paid regularly. Others come for the lifestyle, the chance to fade into a comparative anonymity unavailable to them at home, or to live the â€œquiet, cleanâ€ life that Schelotto describes as he reminisces about his days in Ohio. The Portland Timbers playmaker Diego Valeri was one such player who called Schelotto, his former manager, and he eventually heeded his advice. But he said it was for an entirely different reason. A year before he signed with Portland, while under contract to his hometown club Lanus, Valeri had had a gun pressed to his throat when robbers attempted to steal his BMW with his wife, Florencia, and daughter, Connie, inside. â€œAfter that moment,â€ Valeri said with considerable understatement, â€œwe thought about opportunities to play outside and know different places in the world. â€ Within a year, Valeri, who had had loan spells in Portugal and Spain, was on his way to Portland. â€œSituations like that are very hard for the Argentinian people to change,â€ he said. The    Valeri and his family are now settled in the Northwest, where he is playing arguably the best soccer of his career. He is a     and in between was named the most valuable player when Portland won the 2015 M. L. S. Cup championship game. â€œI think they like the anonymity and the tranquillity here,â€ Caleb Porter, Valeriâ€™s coach with the Timbers, said of his star and his countrymen. â€œThey really relish the opportunity to be here and to live a lifestyle thatâ€™s different to how they lived in Argentina. They transition well into M. L. S. â€ Since 2011, Portland has signed six Argentines, including its   acquisition of Blanco, 28. Valeri has been a good ambassador  â€”   he speaks English and urges newcomers to try to learn it as soon as possible, to ease the transition. But Porter and the Timbersâ€™ general manager and president of soccer, Gavin Wilkinson, believe there is another, more straightforward reason for Argentinaâ€™s outsize presence in M. L. S.: It simply produces the kind of technical player that the league desires. â€œCertain countries produce certain positions more,â€ Porter said. â€œMost teams are looking for that creative piece, and you know you can get one in Argentina. â€ A large alumni directory and strong ties to agents and consultants in the region have made that kind of shopping easier for M. L. S. teams, and in the past the struggles of the Argentine economy also favored North American clubs, some said. But there also has been a change in the kind of individual looking to make the move north, and that has dovetailed with the leagueâ€™s overall transfer policy. As the quality of M. L. S. has improved as it enters its third decade, its teams have looked less for marketability from its imports  â€”   which in the past had trended toward aging, often European stars  â€”   and more toward onfield impact and value. The latest class of Argentines reflects this shift, as they enter a league where the average age of designated players  â€”   the teamâ€™s   stars  â€”   has fallen below 28, its lowest point in a decade. â€œThey know that M. L. S. is different to 10 years ago,â€ said Schelotto, who was 34 when he moved to the league. â€œThey can go, make good money, play with some pressure. They know they can make a career in the United States and then maybe move to Europe. â€œTen years ago, it was impossible. Right now, you can. â€ There are currently 24 Argentines playing in the league. Atlanta United and its Argentine coach, Tata Martino, brought in three ahead of its first season, each of them 25 or younger (Villalba is just 22). Buying young is now seen as more of a benefit to clubs than a risk, as players who continue to develop retain a   value if they move on to brighter prospects in Europe. â€œPeople are coming here younger and younger, maybe to start their careers,â€ Ignacio Piatti, a    playmaker for the Montreal Impact, said through an interpreter. â€œItâ€™s what they are looking for at that age: being able to live a comfortable life off the field and focus on their games. â€ Piatti, like Schelotto, has been happy to offer advice to the next wave of Argentine talents considering entering M. L. S. including players on both sides of the Hudson River. Gonzalo Veron, 27, of the Red Bulls, and Moralez, 30, who recently signed with New York City F. C. both acknowledged that they had turned to Piatti for advice before signing. At a community event in East Harlem last week, Moralez  â€”   who spent four years in Italy  â€”   reflected on his decision to move to the United States. He had never been to New York City before signing, he said, and after turning to the likes of Piatti and David Villa for advice about the leagueâ€™s standard of play, he said he also sought assurances for his family, who are set to join him in New York shortly. â€œFirst off, I just want to enjoy football,â€ Moralez said. â€œBut also to get to know the beauty of the city and the country. Not everybody gets the opportunity to come here. â€\n",
            "Fake News\n",
            "Enter 1 for continue and 0 for stopping0\n",
            "You entered: 0\n"
          ]
        }
      ]
    }
  ]
}